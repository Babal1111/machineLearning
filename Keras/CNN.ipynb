{
 "cells": [
  {
   "cell_type": "code",
   "execution_count": 9,
   "id": "c551d2a9-2ad1-4af6-bf04-2141381bfd21",
   "metadata": {},
   "outputs": [],
   "source": [
    "import numpy as np\n",
    "import tensorflow as tf\n",
    "from tensorflow import keras\n",
    "from tensorflow.keras.models import Sequential\n",
    "from tensorflow.keras.layers import Activation, Dense, Flatten, BatchNormalization, Conv2D, MaxPool2D\n",
    "from tensorflow.keras.metrics import categorical_crossentropy\n",
    "from tensorflow.keras.optimizers import Adam\n",
    "from tensorflow.keras.preprocessing.image import ImageDataGenerator\n",
    "from sklearn.metrics import confusion_matrix\n",
    "\n",
    "import itertools\n",
    "import os\n",
    "import shutil\n",
    "import random\n",
    "import glob\n",
    "import matplotlib.pyplot as plt\n",
    "import warnings\n",
    "warnings.simplefilter(action = 'ignore', category = FutureWarning)"
   ]
  },
  {
   "cell_type": "code",
   "execution_count": 17,
   "id": "e3667638-0d70-447a-9832-a40d44f84a5e",
   "metadata": {},
   "outputs": [
    {
     "name": "stdout",
     "output_type": "stream",
     "text": [
      "No of GPUs avail:  0\n"
     ]
    },
    {
     "ename": "IndexError",
     "evalue": "list index out of range",
     "output_type": "error",
     "traceback": [
      "\u001b[1;31m---------------------------------------------------------------------------\u001b[0m",
      "\u001b[1;31mIndexError\u001b[0m                                Traceback (most recent call last)",
      "Cell \u001b[1;32mIn[17], line 3\u001b[0m\n\u001b[0;32m      1\u001b[0m physical_devices \u001b[38;5;241m=\u001b[39m tf\u001b[38;5;241m.\u001b[39mconfig\u001b[38;5;241m.\u001b[39mexperimental\u001b[38;5;241m.\u001b[39mlist_physical_devices(\u001b[38;5;124m'\u001b[39m\u001b[38;5;124mGPU\u001b[39m\u001b[38;5;124m'\u001b[39m)\n\u001b[0;32m      2\u001b[0m \u001b[38;5;28mprint\u001b[39m(\u001b[38;5;124m\"\u001b[39m\u001b[38;5;124mNo of GPUs avail: \u001b[39m\u001b[38;5;124m\"\u001b[39m,\u001b[38;5;28mlen\u001b[39m(physical_devices))\n\u001b[1;32m----> 3\u001b[0m physical_devices \u001b[38;5;241m=\u001b[39m tf\u001b[38;5;241m.\u001b[39mconfig\u001b[38;5;241m.\u001b[39mexperimental\u001b[38;5;241m.\u001b[39mset_memory_growth(physical_devices[\u001b[38;5;241m0\u001b[39m],\u001b[38;5;28;01mTrue\u001b[39;00m)\n",
      "\u001b[1;31mIndexError\u001b[0m: list index out of range"
     ]
    }
   ],
   "source": [
    "physical_devices = tf.config.experimental.list_physical_devices('GPU')\n",
    "print(\"No of GPUs avail: \",len(physical_devices))\n",
    "# physical_devices = tf.config.experimental.set_memory_growth(physical_devices[0],True)"
   ]
  },
  {
   "cell_type": "markdown",
   "id": "a4c1b18e-abd9-4403-af20-f8b4497b0718",
   "metadata": {},
   "source": [
    "**Data Prepration**"
   ]
  },
  {
   "cell_type": "code",
   "execution_count": 33,
   "id": "48a639ac-2cdf-4cba-8b7d-a66d4d7dc6ff",
   "metadata": {},
   "outputs": [],
   "source": [
    "\n",
    "# Step 1: Create folders if they don't exist\n",
    "folders = ['train/cat', 'train/dog', 'valid/cat', 'valid/dog', 'test/cat', 'test/dog']\n",
    "for folder in folders:\n",
    "    os.makedirs(folder, exist_ok=True)\n",
    "\n",
    "# Step 2: Get image paths\n",
    "cat_images = [os.path.join('Cat', f) for f in os.listdir('Cat') if f.lower().endswith(('.jpg', '.jpeg', '.png'))]\n",
    "dog_images = [os.path.join('Dog', f) for f in os.listdir('Dog') if f.lower().endswith(('.jpg', '.jpeg', '.png'))]\n",
    "\n",
    "# Shuffle to randomize\n",
    "random.shuffle(cat_images)\n",
    "random.shuffle(dog_images)\n",
    "\n",
    "# Step 3: Set counts\n",
    "train_count = 500\n",
    "valid_count = 100\n",
    "test_count = 100\n",
    "\n",
    "# Step 4: Move cat images\n",
    "for f in cat_images[:train_count]:\n",
    "    shutil.move(f, 'train/cat')\n",
    "for f in cat_images[train_count:train_count+valid_count]:\n",
    "    shutil.move(f, 'valid/cat')\n",
    "for f in cat_images[train_count+valid_count:train_count+valid_count+test_count]:\n",
    "    shutil.move(f, 'test/cat')\n",
    "\n",
    "# Step 5: Move dog images\n",
    "for f in dog_images[:train_count]:\n",
    "    shutil.move(f, 'train/dog')\n",
    "for f in dog_images[train_count:train_count+valid_count]:\n",
    "    shutil.move(f, 'valid/dog')\n",
    "for f in dog_images[train_count+valid_count:train_count+valid_count+test_count]:\n",
    "    shutil.move(f, 'test/dog'\n",
    "               )"
   ]
  },
  {
   "cell_type": "code",
   "execution_count": 34,
   "id": "284330b6-2e41-46f1-9294-cf0d8c51f57c",
   "metadata": {},
   "outputs": [
    {
     "ename": "FileNotFoundError",
     "evalue": "[WinError 3] The system cannot find the path specified: 'data/train/cat'",
     "output_type": "error",
     "traceback": [
      "\u001b[1;31m---------------------------------------------------------------------------\u001b[0m",
      "\u001b[1;31mFileNotFoundError\u001b[0m                         Traceback (most recent call last)",
      "Cell \u001b[1;32mIn[34], line 3\u001b[0m\n\u001b[0;32m      1\u001b[0m \u001b[38;5;28;01mimport\u001b[39;00m\u001b[38;5;250m \u001b[39m\u001b[38;5;21;01mos\u001b[39;00m\n\u001b[1;32m----> 3\u001b[0m \u001b[38;5;28mprint\u001b[39m(\u001b[38;5;124m\"\u001b[39m\u001b[38;5;124mtrain/cat:\u001b[39m\u001b[38;5;124m\"\u001b[39m, \u001b[38;5;28mlen\u001b[39m(os\u001b[38;5;241m.\u001b[39mlistdir(\u001b[38;5;124m'\u001b[39m\u001b[38;5;124mdata/train/cat\u001b[39m\u001b[38;5;124m'\u001b[39m)))\n\u001b[0;32m      4\u001b[0m \u001b[38;5;28mprint\u001b[39m(\u001b[38;5;124m\"\u001b[39m\u001b[38;5;124mtrain/dog:\u001b[39m\u001b[38;5;124m\"\u001b[39m, \u001b[38;5;28mlen\u001b[39m(os\u001b[38;5;241m.\u001b[39mlistdir(\u001b[38;5;124m'\u001b[39m\u001b[38;5;124mdata/train/dog\u001b[39m\u001b[38;5;124m'\u001b[39m)))\n\u001b[0;32m      5\u001b[0m \u001b[38;5;28mprint\u001b[39m(\u001b[38;5;124m\"\u001b[39m\u001b[38;5;124mvalid/cat:\u001b[39m\u001b[38;5;124m\"\u001b[39m, \u001b[38;5;28mlen\u001b[39m(os\u001b[38;5;241m.\u001b[39mlistdir(\u001b[38;5;124m'\u001b[39m\u001b[38;5;124mdata/valid/cat\u001b[39m\u001b[38;5;124m'\u001b[39m)))\n",
      "\u001b[1;31mFileNotFoundError\u001b[0m: [WinError 3] The system cannot find the path specified: 'data/train/cat'"
     ]
    }
   ],
   "source": [
    "# import os\n",
    "\n",
    "# print(\"train/cat:\", len(os.listdir('data/train/cat')))\n",
    "# print(\"train/dog:\", len(os.listdir('data/train/dog')))\n",
    "# print(\"valid/cat:\", len(os.listdir('data/valid/cat')))\n",
    "# print(\"valid/dog:\", len(os.listdir('data/valid/dog')))\n",
    "# print(\"test/cat:\", len(os.listdir('data/test/cat')))\n",
    "# print(\"test/dog:\", len(os.listdir('data/test/dog')))\n"
   ]
  },
  {
   "cell_type": "code",
   "execution_count": 35,
   "id": "cde973fc-a7c6-4787-b131-829add4a3116",
   "metadata": {},
   "outputs": [
    {
     "name": "stdout",
     "output_type": "stream",
     "text": [
      "Current directory: C:\\Users\\babal\\Desktop\\MachineLearning\\Keras\\data\n"
     ]
    }
   ],
   "source": [
    "import os\n",
    "print(\"Current directory:\", os.getcwd())\n"
   ]
  },
  {
   "cell_type": "code",
   "execution_count": 36,
   "id": "1a490d5b-6343-4b80-8fb8-638458bd0d10",
   "metadata": {},
   "outputs": [],
   "source": [
    "train_path = 'train'\n",
    "valid_path = 'valid'\n",
    "test_path = 'test'"
   ]
  },
  {
   "cell_type": "code",
   "execution_count": 37,
   "id": "58ea6e57-06f3-4263-a219-556ea7530e8c",
   "metadata": {},
   "outputs": [
    {
     "name": "stdout",
     "output_type": "stream",
     "text": [
      "Found 2000 images belonging to 2 classes.\n",
      "Found 400 images belonging to 2 classes.\n",
      "Found 400 images belonging to 2 classes.\n"
     ]
    }
   ],
   "source": [
    "train_batches = ImageDataGenerator(\n",
    "    preprocessing_function=tf.keras.applications.vgg16.preprocess_input\n",
    ").flow_from_directory(\n",
    "    directory=\n",
    "    train_path,                  # or use `train_path` if defined\n",
    "    target_size=(224, 224),             # fixed the typo here\n",
    "    classes=['cat', 'dog'],\n",
    "    batch_size=10 ,\n",
    "     shuffle=False \n",
    "    # fixed typo: `batchsize` → `batch_size`\n",
    ")\n",
    "\n",
    "test_batches = ImageDataGenerator(\n",
    "    preprocessing_function=tf.keras.applications.vgg16.preprocess_input\n",
    ").flow_from_directory(\n",
    "    directory=test_path,                  # or use `train_path` if defined\n",
    "    target_size=(224, 224),             # fixed the typo here\n",
    "    classes=['cat', 'dog'],\n",
    "    batch_size=10                       # fixed typo: `batchsize` → `batch_size`\n",
    ")\n",
    "\n",
    "valid_batches = ImageDataGenerator(\n",
    "    preprocessing_function=tf.keras.applications.vgg16.preprocess_input\n",
    ").flow_from_directory(\n",
    "    directory=valid_path,                  # or use `train_path` if defined\n",
    "    target_size=(224, 224),             # fixed the typo here\n",
    "    classes=['cat', 'dog'],\n",
    "    batch_size=10                       # fixed typo: `batchsize` → `batch_size`\n",
    ")\n",
    "\n"
   ]
  }
 ],
 "metadata": {
  "kernelspec": {
   "display_name": "Python 3 (ipykernel)",
   "language": "python",
   "name": "python3"
  },
  "language_info": {
   "codemirror_mode": {
    "name": "ipython",
    "version": 3
   },
   "file_extension": ".py",
   "mimetype": "text/x-python",
   "name": "python",
   "nbconvert_exporter": "python",
   "pygments_lexer": "ipython3",
   "version": "3.13.5"
  }
 },
 "nbformat": 4,
 "nbformat_minor": 5
}
